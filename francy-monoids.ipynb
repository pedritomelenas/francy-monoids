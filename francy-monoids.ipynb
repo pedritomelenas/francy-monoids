{
 "cells": [
  {
   "cell_type": "code",
   "execution_count": 2,
   "metadata": {},
   "outputs": [
    {
     "name": "stdout",
     "output_type": "stream",
     "text": [
      "#I  Please load package NormalizInterface or 4ti2Interface\n",
      "#I  to have extended functionalities.\n",
      "#I  Please load package SingularInterface or singular (not both)\n",
      "#I  or GradedModules to have extended functionalities.\n"
     ]
    },
    {
     "data": {
      "text/plain": [
       "true"
      ]
     },
     "execution_count": 1,
     "metadata": {
      "text/plain": ""
     },
     "output_type": "execute_result"
    },
    {
     "data": {
      "text/plain": [
       "true"
      ]
     },
     "execution_count": 2,
     "metadata": {
      "text/plain": ""
     },
     "output_type": "execute_result"
    }
   ],
   "source": [
    "LoadPackage(\"num\");\n",
    "LoadPackage(\"francy\");"
   ]
  },
  {
   "cell_type": "code",
   "execution_count": 3,
   "metadata": {},
   "outputs": [],
   "source": [
    "Read(\"francy-monoids.gd\");"
   ]
  },
  {
   "cell_type": "code",
   "execution_count": 4,
   "metadata": {},
   "outputs": [],
   "source": [
    "Read(\"francy-monoids.gi\");"
   ]
  },
  {
   "cell_type": "code",
   "execution_count": 5,
   "metadata": {},
   "outputs": [
    {
     "data": {
      "text/plain": [
       "The numerical semigroup N"
      ]
     },
     "execution_count": 5,
     "metadata": {
      "text/plain": ""
     },
     "output_type": "execute_result"
    }
   ],
   "source": [
    "s:=NumericalSemigroup(1);"
   ]
  },
  {
   "cell_type": "markdown",
   "metadata": {},
   "source": [
    "## Trees"
   ]
  },
  {
   "cell_type": "code",
   "execution_count": 6,
   "metadata": {
    "scrolled": false
   },
   "outputs": [
    {
     "data": {
      "application/vnd.francy+json": "{\"version\" : \"0.6.0\",\"mime\" : \"application\\/vnd.francy+json\",\"canvas\" : {\"width\" : 800,\"height\" : 600,\"id\" : \"F4\",\"title\" : \"Sons of a numerical semigroup\",\"zoomToFit\" : true,\"texTypesetting\" : true,\"menus\" : {},\"graph\" : {\"type\" : \"tree\",\"id\" : \"F1\",\"simulation\" : true,\"collapsed\" : false,\"drag\" : false,\"showNeighbours\" : false,\"nodes\" : {\"F2\" : {\"x\" : 0,\"y\" : 0,\"type\" : \"circle\",\"size\" : 5,\"id\" : \"F2\",\"title\" : \"S\",\"color\" : \"\",\"highlight\" : true,\"layer\" : 0,\"parent\" : \"\",\"menus\" : {},\"messages\" : {\"F3\" : {\"type\" : \"default\",\"id\" : \"F3\",\"text\" : \"[ 1 ]\",\"title\" : \"\"}},\"callbacks\" : {}},\"F5\" : {\"x\" : 0,\"y\" : 0,\"type\" : \"circle\",\"size\" : 5,\"id\" : \"F5\",\"title\" : \"{2,3}\",\"color\" : \"\",\"highlight\" : true,\"layer\" : 0,\"parent\" : \"F2\",\"menus\" : {},\"messages\" : {},\"callbacks\" : {}},\"F6\" : {\"x\" : 0,\"y\" : 0,\"type\" : \"circle\",\"size\" : 5,\"id\" : \"F6\",\"title\" : \"{3,4,5}\",\"color\" : \"\",\"highlight\" : true,\"layer\" : 0,\"parent\" : \"F5\",\"menus\" : {},\"messages\" : {},\"callbacks\" : {}},\"F7\" : {\"x\" : 0,\"y\" : 0,\"type\" : \"circle\",\"size\" : 5,\"id\" : \"F7\",\"title\" : \"{4,5,6,7}\",\"color\" : \"\",\"highlight\" : true,\"layer\" : 0,\"parent\" : \"F6\",\"menus\" : {},\"messages\" : {},\"callbacks\" : {}},\"F8\" : {\"x\" : 0,\"y\" : 0,\"type\" : \"circle\",\"size\" : 5,\"id\" : \"F8\",\"title\" : \"{5,6,7,8,9}\",\"color\" : \"\",\"highlight\" : true,\"layer\" : 0,\"parent\" : \"F7\",\"menus\" : {},\"messages\" : {},\"callbacks\" : {}},\"F9\" : {\"x\" : 0,\"y\" : 0,\"type\" : \"circle\",\"size\" : 5,\"id\" : \"F9\",\"title\" : \"{6,7,8,9,10,11}\",\"color\" : \"\",\"highlight\" : true,\"layer\" : 0,\"parent\" : \"F8\",\"menus\" : {},\"messages\" : {},\"callbacks\" : {}},\"F10\" : {\"x\" : 0,\"y\" : 0,\"type\" : \"circle\",\"size\" : 5,\"id\" : \"F10\",\"title\" : \"{5,7,8,9,11}\",\"color\" : \"\",\"highlight\" : true,\"layer\" : 0,\"parent\" : \"F8\",\"menus\" : {},\"messages\" : {},\"callbacks\" : {}},\"F11\" : {\"x\" : 0,\"y\" : 0,\"type\" : \"circle\",\"size\" : 5,\"id\" : \"F11\",\"title\" : \"{5,6,8,9}\",\"color\" : \"\",\"highlight\" : true,\"layer\" : 0,\"parent\" : \"F8\",\"menus\" : {},\"messages\" : {},\"callbacks\" : {}},\"F12\" : {\"x\" : 0,\"y\" : 0,\"type\" : \"circle\",\"size\" : 5,\"id\" : \"F12\",\"title\" : \"{5,6,7,9}\",\"color\" : \"\",\"highlight\" : true,\"layer\" : 0,\"parent\" : \"F8\",\"menus\" : {},\"messages\" : {},\"callbacks\" : {}},\"F13\" : {\"x\" : 0,\"y\" : 0,\"type\" : \"circle\",\"size\" : 5,\"id\" : \"F13\",\"title\" : \"{5,6,7,8}\",\"color\" : \"\",\"highlight\" : true,\"layer\" : 0,\"parent\" : \"F8\",\"menus\" : {},\"messages\" : {},\"callbacks\" : {}},\"F14\" : {\"x\" : 0,\"y\" : 0,\"type\" : \"circle\",\"size\" : 5,\"id\" : \"F14\",\"title\" : \"{4,6,7,9}\",\"color\" : \"\",\"highlight\" : true,\"layer\" : 0,\"parent\" : \"F7\",\"menus\" : {},\"messages\" : {},\"callbacks\" : {}},\"F15\" : {\"x\" : 0,\"y\" : 0,\"type\" : \"circle\",\"size\" : 5,\"id\" : \"F15\",\"title\" : \"{4,7,9,10}\",\"color\" : \"\",\"highlight\" : true,\"layer\" : 0,\"parent\" : \"F14\",\"menus\" : {},\"messages\" : {},\"callbacks\" : {}},\"F16\" : {\"x\" : 0,\"y\" : 0,\"type\" : \"circle\",\"size\" : 5,\"id\" : \"F16\",\"title\" : \"{4,6,9,11}\",\"color\" : \"\",\"highlight\" : true,\"layer\" : 0,\"parent\" : \"F14\",\"menus\" : {},\"messages\" : {},\"callbacks\" : {}},\"F17\" : {\"x\" : 0,\"y\" : 0,\"type\" : \"circle\",\"size\" : 5,\"id\" : \"F17\",\"title\" : \"{4,6,7}\",\"color\" : \"\",\"highlight\" : true,\"layer\" : 0,\"parent\" : \"F14\",\"menus\" : {},\"messages\" : {},\"callbacks\" : {}},\"F18\" : {\"x\" : 0,\"y\" : 0,\"type\" : \"circle\",\"size\" : 5,\"id\" : \"F18\",\"title\" : \"{4,5,7}\",\"color\" : \"\",\"highlight\" : true,\"layer\" : 0,\"parent\" : \"F7\",\"menus\" : {},\"messages\" : {},\"callbacks\" : {}},\"F19\" : {\"x\" : 0,\"y\" : 0,\"type\" : \"circle\",\"size\" : 5,\"id\" : \"F19\",\"title\" : \"{4,5,11}\",\"color\" : \"\",\"highlight\" : true,\"layer\" : 0,\"parent\" : \"F18\",\"menus\" : {},\"messages\" : {},\"callbacks\" : {}},\"F20\" : {\"x\" : 0,\"y\" : 0,\"type\" : \"circle\",\"size\" : 5,\"id\" : \"F20\",\"title\" : \"{4,5,6}\",\"color\" : \"\",\"highlight\" : true,\"layer\" : 0,\"parent\" : \"F7\",\"menus\" : {},\"messages\" : {},\"callbacks\" : {}},\"F21\" : {\"x\" : 0,\"y\" : 0,\"type\" : \"circle\",\"size\" : 5,\"id\" : \"F21\",\"title\" : \"{3,5,7}\",\"color\" : \"\",\"highlight\" : true,\"layer\" : 0,\"parent\" : \"F6\",\"menus\" : {},\"messages\" : {},\"callbacks\" : {}},\"F22\" : {\"x\" : 0,\"y\" : 0,\"type\" : \"circle\",\"size\" : 5,\"id\" : \"F22\",\"title\" : \"{3,7,8}\",\"color\" : \"\",\"highlight\" : true,\"layer\" : 0,\"parent\" : \"F21\",\"menus\" : {},\"messages\" : {},\"callbacks\" : {}},\"F23\" : {\"x\" : 0,\"y\" : 0,\"type\" : \"circle\",\"size\" : 5,\"id\" : \"F23\",\"title\" : \"{3,8,10}\",\"color\" : \"\",\"highlight\" : true,\"layer\" : 0,\"parent\" : \"F22\",\"menus\" : {},\"messages\" : {},\"callbacks\" : {}},\"F24\" : {\"x\" : 0,\"y\" : 0,\"type\" : \"circle\",\"size\" : 5,\"id\" : \"F24\",\"title\" : \"{3,7,11}\",\"color\" : \"\",\"highlight\" : true,\"layer\" : 0,\"parent\" : \"F22\",\"menus\" : {},\"messages\" : {},\"callbacks\" : {}},\"F25\" : {\"x\" : 0,\"y\" : 0,\"type\" : \"circle\",\"size\" : 5,\"id\" : \"F25\",\"title\" : \"{3,5}\",\"color\" : \"\",\"highlight\" : true,\"layer\" : 0,\"parent\" : \"F21\",\"menus\" : {},\"messages\" : {},\"callbacks\" : {}},\"F26\" : {\"x\" : 0,\"y\" : 0,\"type\" : \"circle\",\"size\" : 5,\"id\" : \"F26\",\"title\" : \"{3,4}\",\"color\" : \"\",\"highlight\" : true,\"layer\" : 0,\"parent\" : \"F6\",\"menus\" : {},\"messages\" : {},\"callbacks\" : {}},\"F27\" : {\"x\" : 0,\"y\" : 0,\"type\" : \"circle\",\"size\" : 5,\"id\" : \"F27\",\"title\" : \"{2,5}\",\"color\" : \"\",\"highlight\" : true,\"layer\" : 0,\"parent\" : \"F5\",\"menus\" : {},\"messages\" : {},\"callbacks\" : {}},\"F28\" : {\"x\" : 0,\"y\" : 0,\"type\" : \"circle\",\"size\" : 5,\"id\" : \"F28\",\"title\" : \"{2,7}\",\"color\" : \"\",\"highlight\" : true,\"layer\" : 0,\"parent\" : \"F27\",\"menus\" : {},\"messages\" : {},\"callbacks\" : {}},\"F29\" : {\"x\" : 0,\"y\" : 0,\"type\" : \"circle\",\"size\" : 5,\"id\" : \"F29\",\"title\" : \"{2,9}\",\"color\" : \"\",\"highlight\" : true,\"layer\" : 0,\"parent\" : \"F28\",\"menus\" : {},\"messages\" : {},\"callbacks\" : {}},\"F30\" : {\"x\" : 0,\"y\" : 0,\"type\" : \"circle\",\"size\" : 5,\"id\" : \"F30\",\"title\" : \"{2,11}\",\"color\" : \"\",\"highlight\" : true,\"layer\" : 0,\"parent\" : \"F29\",\"menus\" : {},\"messages\" : {},\"callbacks\" : {}}},\"links\" : {}},\"messages\" : {}}}"
     },
     "execution_count": 6,
     "metadata": {
      "application/vnd.francy+json": {}
     },
     "output_type": "execute_result"
    }
   ],
   "source": [
    "DrawTreeOfSonsOfNumericalSemigroup(s,5,MinimalGenerators);"
   ]
  },
  {
   "cell_type": "code",
   "execution_count": 7,
   "metadata": {},
   "outputs": [
    {
     "data": {
      "text/plain": [
       "Numerical semigroup with 3 generators"
      ]
     },
     "execution_count": 7,
     "metadata": {
      "text/plain": ""
     },
     "output_type": "execute_result"
    }
   ],
   "source": [
    "s:=NumericalSemigroup(4,6,9);"
   ]
  },
  {
   "cell_type": "code",
   "execution_count": 9,
   "metadata": {},
   "outputs": [
    {
     "data": {
      "application/vnd.francy+json": "{\"version\" : \"0.6.0\",\"mime\" : \"application\\/vnd.francy+json\",\"canvas\" : {\"width\" : 800,\"height\" : 600,\"id\" : \"F48\",\"title\" : \"Gluings of a numerical semigroup\",\"zoomToFit\" : true,\"texTypesetting\" : false,\"menus\" : {},\"graph\" : {\"type\" : \"tree\",\"id\" : \"F46\",\"simulation\" : true,\"collapsed\" : false,\"drag\" : false,\"showNeighbours\" : false,\"nodes\" : {\"F47\" : {\"x\" : 0,\"y\" : 0,\"type\" : \"circle\",\"size\" : 1,\"id\" : \"F47\",\"title\" : \"〈4,6,9〉\",\"color\" : \"\",\"highlight\" : true,\"layer\" : 0,\"parent\" : \"\",\"menus\" : {},\"messages\" : {},\"callbacks\" : {}},\"F49\" : {\"x\" : 0,\"y\" : 0,\"type\" : \"square\",\"size\" : 1,\"id\" : \"F49\",\"title\" : \"〈4〉 + 〈6,9〉\",\"color\" : \"\",\"highlight\" : true,\"layer\" : 0,\"parent\" : \"F47\",\"menus\" : {},\"messages\" : {},\"callbacks\" : {}},\"F50\" : {\"x\" : 0,\"y\" : 0,\"type\" : \"circle\",\"size\" : 1,\"id\" : \"F50\",\"title\" : \"〈1〉\",\"color\" : \"\",\"highlight\" : true,\"layer\" : 0,\"parent\" : \"F49\",\"menus\" : {},\"messages\" : {},\"callbacks\" : {}},\"F51\" : {\"x\" : 0,\"y\" : 0,\"type\" : \"circle\",\"size\" : 1,\"id\" : \"F51\",\"title\" : \"〈2,3〉\",\"color\" : \"\",\"highlight\" : true,\"layer\" : 0,\"parent\" : \"F49\",\"menus\" : {},\"messages\" : {},\"callbacks\" : {}},\"F52\" : {\"x\" : 0,\"y\" : 0,\"type\" : \"square\",\"size\" : 1,\"id\" : \"F52\",\"title\" : \"〈2〉 + 〈3〉\",\"color\" : \"\",\"highlight\" : true,\"layer\" : 0,\"parent\" : \"F51\",\"menus\" : {},\"messages\" : {},\"callbacks\" : {}},\"F53\" : {\"x\" : 0,\"y\" : 0,\"type\" : \"circle\",\"size\" : 1,\"id\" : \"F53\",\"title\" : \"〈1〉\",\"color\" : \"\",\"highlight\" : true,\"layer\" : 0,\"parent\" : \"F52\",\"menus\" : {},\"messages\" : {},\"callbacks\" : {}},\"F54\" : {\"x\" : 0,\"y\" : 0,\"type\" : \"circle\",\"size\" : 1,\"id\" : \"F54\",\"title\" : \"〈1〉\",\"color\" : \"\",\"highlight\" : true,\"layer\" : 0,\"parent\" : \"F52\",\"menus\" : {},\"messages\" : {},\"callbacks\" : {}},\"F55\" : {\"x\" : 0,\"y\" : 0,\"type\" : \"square\",\"size\" : 1,\"id\" : \"F55\",\"title\" : \"〈4,6〉 + 〈9〉\",\"color\" : \"\",\"highlight\" : true,\"layer\" : 0,\"parent\" : \"F47\",\"menus\" : {},\"messages\" : {},\"callbacks\" : {}},\"F56\" : {\"x\" : 0,\"y\" : 0,\"type\" : \"circle\",\"size\" : 1,\"id\" : \"F56\",\"title\" : \"〈2,3〉\",\"color\" : \"\",\"highlight\" : true,\"layer\" : 0,\"parent\" : \"F55\",\"menus\" : {},\"messages\" : {},\"callbacks\" : {}},\"F57\" : {\"x\" : 0,\"y\" : 0,\"type\" : \"circle\",\"size\" : 1,\"id\" : \"F57\",\"title\" : \"〈1〉\",\"color\" : \"\",\"highlight\" : true,\"layer\" : 0,\"parent\" : \"F55\",\"menus\" : {},\"messages\" : {},\"callbacks\" : {}},\"F58\" : {\"x\" : 0,\"y\" : 0,\"type\" : \"square\",\"size\" : 1,\"id\" : \"F58\",\"title\" : \"〈2〉 + 〈3〉\",\"color\" : \"\",\"highlight\" : true,\"layer\" : 0,\"parent\" : \"F56\",\"menus\" : {},\"messages\" : {},\"callbacks\" : {}},\"F59\" : {\"x\" : 0,\"y\" : 0,\"type\" : \"circle\",\"size\" : 1,\"id\" : \"F59\",\"title\" : \"〈1〉\",\"color\" : \"\",\"highlight\" : true,\"layer\" : 0,\"parent\" : \"F58\",\"menus\" : {},\"messages\" : {},\"callbacks\" : {}},\"F60\" : {\"x\" : 0,\"y\" : 0,\"type\" : \"circle\",\"size\" : 1,\"id\" : \"F60\",\"title\" : \"〈1〉\",\"color\" : \"\",\"highlight\" : true,\"layer\" : 0,\"parent\" : \"F58\",\"menus\" : {},\"messages\" : {},\"callbacks\" : {}}},\"links\" : {}},\"messages\" : {}}}"
     },
     "execution_count": 9,
     "metadata": {
      "application/vnd.francy+json": {}
     },
     "output_type": "execute_result"
    }
   ],
   "source": [
    "DrawTreeOfGluingsOfNumericalSemigroup(s,true);"
   ]
  },
  {
   "cell_type": "markdown",
   "metadata": {},
   "source": [
    "## Hasse Diagrams"
   ]
  },
  {
   "cell_type": "code",
   "execution_count": 10,
   "metadata": {},
   "outputs": [
    {
     "data": {
      "text/plain": [
       "Numerical semigroup with 3 generators"
      ]
     },
     "execution_count": 10,
     "metadata": {
      "text/plain": ""
     },
     "output_type": "execute_result"
    }
   ],
   "source": [
    "s:=NumericalSemigroup(3,5,7);"
   ]
  },
  {
   "cell_type": "code",
   "execution_count": 11,
   "metadata": {
    "scrolled": false
   },
   "outputs": [
    {
     "data": {
      "application/vnd.francy+json": "{\"version\" : \"0.6.0\",\"mime\" : \"application\\/vnd.francy+json\",\"canvas\" : {\"width\" : 800,\"height\" : 600,\"id\" : \"F147\",\"title\" : \"Hasse diagram of numerical semigroup\",\"zoomToFit\" : true,\"texTypesetting\" : false,\"menus\" : {},\"graph\" : {\"type\" : \"directed\",\"id\" : \"F61\",\"simulation\" : true,\"collapsed\" : true,\"drag\" : true,\"showNeighbours\" : false,\"nodes\" : {\"F62\" : {\"x\" : 0,\"y\" : 0,\"type\" : \"circle\",\"size\" : 10,\"id\" : \"F62\",\"title\" : \"1\",\"color\" : \"\",\"highlight\" : true,\"layer\" : 0,\"parent\" : \"\",\"menus\" : {},\"messages\" : {},\"callbacks\" : {\"F63\" : {\"func\" : \"unknown\",\"id\" : \"F63\",\"trigger\" : \"click\",\"knownArgs\" : [\"1\"],\"requiredArgs\" : {}}}},\"F64\" : {\"x\" : 0,\"y\" : 0,\"type\" : \"circle\",\"size\" : 10,\"id\" : \"F64\",\"title\" : \"2\",\"color\" : \"\",\"highlight\" : true,\"layer\" : 0,\"parent\" : \"\",\"menus\" : {},\"messages\" : {},\"callbacks\" : {\"F65\" : {\"func\" : \"unknown\",\"id\" : \"F65\",\"trigger\" : \"click\",\"knownArgs\" : [\"2\"],\"requiredArgs\" : {}}}},\"F66\" : {\"x\" : 0,\"y\" : 0,\"type\" : \"circle\",\"size\" : 10,\"id\" : \"F66\",\"title\" : \"3\",\"color\" : \"\",\"highlight\" : true,\"layer\" : 0,\"parent\" : \"\",\"menus\" : {},\"messages\" : {},\"callbacks\" : {\"F67\" : {\"func\" : \"unknown\",\"id\" : \"F67\",\"trigger\" : \"click\",\"knownArgs\" : [\"3\"],\"requiredArgs\" : {}}}},\"F68\" : {\"x\" : 0,\"y\" : 0,\"type\" : \"circle\",\"size\" : 10,\"id\" : \"F68\",\"title\" : \"4\",\"color\" : \"\",\"highlight\" : true,\"layer\" : -1,\"parent\" : \"\",\"menus\" : {},\"messages\" : {},\"callbacks\" : {\"F69\" : {\"func\" : \"unknown\",\"id\" : \"F69\",\"trigger\" : \"click\",\"knownArgs\" : [\"4\"],\"requiredArgs\" : {}}}},\"F70\" : {\"x\" : 0,\"y\" : 0,\"type\" : \"circle\",\"size\" : 10,\"id\" : \"F70\",\"title\" : \"5\",\"color\" : \"\",\"highlight\" : true,\"layer\" : -1,\"parent\" : \"\",\"menus\" : {},\"messages\" : {},\"callbacks\" : {\"F71\" : {\"func\" : \"unknown\",\"id\" : \"F71\",\"trigger\" : \"click\",\"knownArgs\" : [\"5\"],\"requiredArgs\" : {}}}},\"F72\" : {\"x\" : 0,\"y\" : 0,\"type\" : \"circle\",\"size\" : 10,\"id\" : \"F72\",\"title\" : \"6\",\"color\" : \"\",\"highlight\" : true,\"layer\" : -1,\"parent\" : \"\",\"menus\" : {},\"messages\" : {},\"callbacks\" : {\"F73\" : {\"func\" : \"unknown\",\"id\" : \"F73\",\"trigger\" : \"click\",\"knownArgs\" : [\"6\"],\"requiredArgs\" : {}}}},\"F74\" : {\"x\" : 0,\"y\" : 0,\"type\" : \"circle\",\"size\" : 10,\"id\" : \"F74\",\"title\" : \"7\",\"color\" : \"\",\"highlight\" : true,\"layer\" : -2,\"parent\" : \"\",\"menus\" : {},\"messages\" : {},\"callbacks\" : {\"F75\" : {\"func\" : \"unknown\",\"id\" : \"F75\",\"trigger\" : \"click\",\"knownArgs\" : [\"7\"],\"requiredArgs\" : {}}}},\"F76\" : {\"x\" : 0,\"y\" : 0,\"type\" : \"circle\",\"size\" : 10,\"id\" : \"F76\",\"title\" : \"8\",\"color\" : \"\",\"highlight\" : true,\"layer\" : -2,\"parent\" : \"\",\"menus\" : {},\"messages\" : {},\"callbacks\" : {\"F77\" : {\"func\" : \"unknown\",\"id\" : \"F77\",\"trigger\" : \"click\",\"knownArgs\" : [\"8\"],\"requiredArgs\" : {}}}},\"F78\" : {\"x\" : 0,\"y\" : 0,\"type\" : \"circle\",\"size\" : 10,\"id\" : \"F78\",\"title\" : \"9\",\"color\" : \"\",\"highlight\" : true,\"layer\" : -2,\"parent\" : \"\",\"menus\" : {},\"messages\" : {},\"callbacks\" : {\"F79\" : {\"func\" : \"unknown\",\"id\" : \"F79\",\"trigger\" : \"click\",\"knownArgs\" : [\"9\"],\"requiredArgs\" : {}}}},\"F80\" : {\"x\" : 0,\"y\" : 0,\"type\" : \"circle\",\"size\" : 10,\"id\" : \"F80\",\"title\" : \"10\",\"color\" : \"\",\"highlight\" : true,\"layer\" : -3,\"parent\" : \"\",\"menus\" : {},\"messages\" : {},\"callbacks\" : {\"F81\" : {\"func\" : \"unknown\",\"id\" : \"F81\",\"trigger\" : \"click\",\"knownArgs\" : [\"10\"],\"requiredArgs\" : {}}}},\"F82\" : {\"x\" : 0,\"y\" : 0,\"type\" : \"circle\",\"size\" : 10,\"id\" : \"F82\",\"title\" : \"11\",\"color\" : \"\",\"highlight\" : true,\"layer\" : -3,\"parent\" : \"\",\"menus\" : {},\"messages\" : {},\"callbacks\" : {\"F83\" : {\"func\" : \"unknown\",\"id\" : \"F83\",\"trigger\" : \"click\",\"knownArgs\" : [\"11\"],\"requiredArgs\" : {}}}},\"F84\" : {\"x\" : 0,\"y\" : 0,\"type\" : \"circle\",\"size\" : 10,\"id\" : \"F84\",\"title\" : \"12\",\"color\" : \"\",\"highlight\" : true,\"layer\" : -3,\"parent\" : \"\",\"menus\" : {},\"messages\" : {},\"callbacks\" : {\"F85\" : {\"func\" : \"unknown\",\"id\" : \"F85\",\"trigger\" : \"click\",\"knownArgs\" : [\"12\"],\"requiredArgs\" : {}}}},\"F86\" : {\"x\" : 0,\"y\" : 0,\"type\" : \"circle\",\"size\" : 10,\"id\" : \"F86\",\"title\" : \"13\",\"color\" : \"\",\"highlight\" : true,\"layer\" : -4,\"parent\" : \"\",\"menus\" : {},\"messages\" : {},\"callbacks\" : {\"F87\" : {\"func\" : \"unknown\",\"id\" : \"F87\",\"trigger\" : \"click\",\"knownArgs\" : [\"13\"],\"requiredArgs\" : {}}}},\"F88\" : {\"x\" : 0,\"y\" : 0,\"type\" : \"circle\",\"size\" : 10,\"id\" : \"F88\",\"title\" : \"14\",\"color\" : \"\",\"highlight\" : true,\"layer\" : -4,\"parent\" : \"\",\"menus\" : {},\"messages\" : {},\"callbacks\" : {\"F89\" : {\"func\" : \"unknown\",\"id\" : \"F89\",\"trigger\" : \"click\",\"knownArgs\" : [\"14\"],\"requiredArgs\" : {}}}},\"F90\" : {\"x\" : 0,\"y\" : 0,\"type\" : \"circle\",\"size\" : 10,\"id\" : \"F90\",\"title\" : \"15\",\"color\" : \"\",\"highlight\" : true,\"layer\" : -4,\"parent\" : \"\",\"menus\" : {},\"messages\" : {},\"callbacks\" : {\"F91\" : {\"func\" : \"unknown\",\"id\" : \"F91\",\"trigger\" : \"click\",\"knownArgs\" : [\"15\"],\"requiredArgs\" : {}}}},\"F92\" : {\"x\" : 0,\"y\" : 0,\"type\" : \"circle\",\"size\" : 10,\"id\" : \"F92\",\"title\" : \"16\",\"color\" : \"\",\"highlight\" : true,\"layer\" : -5,\"parent\" : \"\",\"menus\" : {},\"messages\" : {},\"callbacks\" : {\"F93\" : {\"func\" : \"unknown\",\"id\" : \"F93\",\"trigger\" : \"click\",\"knownArgs\" : [\"16\"],\"requiredArgs\" : {}}}},\"F94\" : {\"x\" : 0,\"y\" : 0,\"type\" : \"circle\",\"size\" : 10,\"id\" : \"F94\",\"title\" : \"17\",\"color\" : \"\",\"highlight\" : true,\"layer\" : -5,\"parent\" : \"\",\"menus\" : {},\"messages\" : {},\"callbacks\" : {\"F95\" : {\"func\" : \"unknown\",\"id\" : \"F95\",\"trigger\" : \"click\",\"knownArgs\" : [\"17\"],\"requiredArgs\" : {}}}},\"F96\" : {\"x\" : 0,\"y\" : 0,\"type\" : \"circle\",\"size\" : 10,\"id\" : \"F96\",\"title\" : \"18\",\"color\" : \"\",\"highlight\" : true,\"layer\" : -5,\"parent\" : \"\",\"menus\" : {},\"messages\" : {},\"callbacks\" : {\"F97\" : {\"func\" : \"unknown\",\"id\" : \"F97\",\"trigger\" : \"click\",\"knownArgs\" : [\"18\"],\"requiredArgs\" : {}}}},\"F98\" : {\"x\" : 0,\"y\" : 0,\"type\" : \"circle\",\"size\" : 10,\"id\" : \"F98\",\"title\" : \"19\",\"color\" : \"\",\"highlight\" : true,\"layer\" : -6,\"parent\" : \"\",\"menus\" : {},\"messages\" : {},\"callbacks\" : {\"F99\" : {\"func\" : \"unknown\",\"id\" : \"F99\",\"trigger\" : \"click\",\"knownArgs\" : [\"19\"],\"requiredArgs\" : {}}}},\"F100\" : {\"x\" : 0,\"y\" : 0,\"type\" : \"circle\",\"size\" : 10,\"id\" : \"F100\",\"title\" : \"20\",\"color\" : \"\",\"highlight\" : true,\"layer\" : -6,\"parent\" : \"\",\"menus\" : {},\"messages\" : {},\"callbacks\" : {\"F101\" : {\"func\" : \"unknown\",\"id\" : \"F101\",\"trigger\" : \"click\",\"knownArgs\" : [\"20\"],\"requiredArgs\" : {}}}}},\"links\" : {\"F102\" : {\"source\" : \"F62\",\"weight\" : 1,\"id\" : \"F102\",\"color\" : \"\",\"target\" : \"F68\"},\"F103\" : {\"source\" : \"F62\",\"weight\" : 1,\"id\" : \"F103\",\"color\" : \"\",\"target\" : \"F72\"},\"F104\" : {\"source\" : \"F62\",\"weight\" : 1,\"id\" : \"F104\",\"color\" : \"\",\"target\" : \"F76\"},\"F105\" : {\"source\" : \"F64\",\"weight\" : 1,\"id\" : \"F105\",\"color\" : \"\",\"target\" : \"F70\"},\"F106\" : {\"source\" : \"F64\",\"weight\" : 1,\"id\" : \"F106\",\"color\" : \"\",\"target\" : \"F74\"},\"F107\" : {\"source\" : \"F64\",\"weight\" : 1,\"id\" : \"F107\",\"color\" : \"\",\"target\" : \"F78\"},\"F108\" : {\"source\" : \"F66\",\"weight\" : 1,\"id\" : \"F108\",\"color\" : \"\",\"target\" : \"F72\"},\"F109\" : {\"source\" : \"F66\",\"weight\" : 1,\"id\" : \"F109\",\"color\" : \"\",\"target\" : \"F76\"},\"F110\" : {\"source\" : \"F66\",\"weight\" : 1,\"id\" : \"F110\",\"color\" : \"\",\"target\" : \"F80\"},\"F111\" : {\"source\" : \"F68\",\"weight\" : 1,\"id\" : \"F111\",\"color\" : \"\",\"target\" : \"F74\"},\"F112\" : {\"source\" : \"F68\",\"weight\" : 1,\"id\" : \"F112\",\"color\" : \"\",\"target\" : \"F78\"},\"F113\" : {\"source\" : \"F68\",\"weight\" : 1,\"id\" : \"F113\",\"color\" : \"\",\"target\" : \"F82\"},\"F114\" : {\"source\" : \"F70\",\"weight\" : 1,\"id\" : \"F114\",\"color\" : \"\",\"target\" : \"F76\"},\"F115\" : {\"source\" : \"F70\",\"weight\" : 1,\"id\" : \"F115\",\"color\" : \"\",\"target\" : \"F80\"},\"F116\" : {\"source\" : \"F70\",\"weight\" : 1,\"id\" : \"F116\",\"color\" : \"\",\"target\" : \"F84\"},\"F117\" : {\"source\" : \"F72\",\"weight\" : 1,\"id\" : \"F117\",\"color\" : \"\",\"target\" : \"F78\"},\"F118\" : {\"source\" : \"F72\",\"weight\" : 1,\"id\" : \"F118\",\"color\" : \"\",\"target\" : \"F82\"},\"F119\" : {\"source\" : \"F72\",\"weight\" : 1,\"id\" : \"F119\",\"color\" : \"\",\"target\" : \"F86\"},\"F120\" : {\"source\" : \"F74\",\"weight\" : 1,\"id\" : \"F120\",\"color\" : \"\",\"target\" : \"F80\"},\"F121\" : {\"source\" : \"F74\",\"weight\" : 1,\"id\" : \"F121\",\"color\" : \"\",\"target\" : \"F84\"},\"F122\" : {\"source\" : \"F74\",\"weight\" : 1,\"id\" : \"F122\",\"color\" : \"\",\"target\" : \"F88\"},\"F123\" : {\"source\" : \"F76\",\"weight\" : 1,\"id\" : \"F123\",\"color\" : \"\",\"target\" : \"F82\"},\"F124\" : {\"source\" : \"F76\",\"weight\" : 1,\"id\" : \"F124\",\"color\" : \"\",\"target\" : \"F86\"},\"F125\" : {\"source\" : \"F76\",\"weight\" : 1,\"id\" : \"F125\",\"color\" : \"\",\"target\" : \"F90\"},\"F126\" : {\"source\" : \"F78\",\"weight\" : 1,\"id\" : \"F126\",\"color\" : \"\",\"target\" : \"F84\"},\"F127\" : {\"source\" : \"F78\",\"weight\" : 1,\"id\" : \"F127\",\"color\" : \"\",\"target\" : \"F88\"},\"F128\" : {\"source\" : \"F78\",\"weight\" : 1,\"id\" : \"F128\",\"color\" : \"\",\"target\" : \"F92\"},\"F129\" : {\"source\" : \"F80\",\"weight\" : 1,\"id\" : \"F129\",\"color\" : \"\",\"target\" : \"F86\"},\"F130\" : {\"source\" : \"F80\",\"weight\" : 1,\"id\" : \"F130\",\"color\" : \"\",\"target\" : \"F90\"},\"F131\" : {\"source\" : \"F80\",\"weight\" : 1,\"id\" : \"F131\",\"color\" : \"\",\"target\" : \"F94\"},\"F132\" : {\"source\" : \"F82\",\"weight\" : 1,\"id\" : \"F132\",\"color\" : \"\",\"target\" : \"F88\"},\"F133\" : {\"source\" : \"F82\",\"weight\" : 1,\"id\" : \"F133\",\"color\" : \"\",\"target\" : \"F92\"},\"F134\" : {\"source\" : \"F82\",\"weight\" : 1,\"id\" : \"F134\",\"color\" : \"\",\"target\" : \"F96\"},\"F135\" : {\"source\" : \"F84\",\"weight\" : 1,\"id\" : \"F135\",\"color\" : \"\",\"target\" : \"F90\"},\"F136\" : {\"source\" : \"F84\",\"weight\" : 1,\"id\" : \"F136\",\"color\" : \"\",\"target\" : \"F94\"},\"F137\" : {\"source\" : \"F84\",\"weight\" : 1,\"id\" : \"F137\",\"color\" : \"\",\"target\" : \"F98\"},\"F138\" : {\"source\" : \"F86\",\"weight\" : 1,\"id\" : \"F138\",\"color\" : \"\",\"target\" : \"F92\"},\"F139\" : {\"source\" : \"F86\",\"weight\" : 1,\"id\" : \"F139\",\"color\" : \"\",\"target\" : \"F96\"},\"F140\" : {\"source\" : \"F86\",\"weight\" : 1,\"id\" : \"F140\",\"color\" : \"\",\"target\" : \"F100\"},\"F141\" : {\"source\" : \"F88\",\"weight\" : 1,\"id\" : \"F141\",\"color\" : \"\",\"target\" : \"F94\"},\"F142\" : {\"source\" : \"F88\",\"weight\" : 1,\"id\" : \"F142\",\"color\" : \"\",\"target\" : \"F98\"},\"F143\" : {\"source\" : \"F90\",\"weight\" : 1,\"id\" : \"F143\",\"color\" : \"\",\"target\" : \"F96\"},\"F144\" : {\"source\" : \"F90\",\"weight\" : 1,\"id\" : \"F144\",\"color\" : \"\",\"target\" : \"F100\"},\"F145\" : {\"source\" : \"F92\",\"weight\" : 1,\"id\" : \"F145\",\"color\" : \"\",\"target\" : \"F98\"},\"F146\" : {\"source\" : \"F94\",\"weight\" : 1,\"id\" : \"F146\",\"color\" : \"\",\"target\" : \"F100\"}}},\"messages\" : {}}}"
     },
     "execution_count": 11,
     "metadata": {
      "application/vnd.francy+json": {}
     },
     "output_type": "execute_result"
    }
   ],
   "source": [
    "DrawHasseDiagramOfNumericalSemigroup(s,[1..20]);"
   ]
  },
  {
   "cell_type": "code",
   "execution_count": 13,
   "metadata": {
    "scrolled": false
   },
   "outputs": [
    {
     "data": {
      "text/plain": [
       "Numerical semigroup with 4 generators"
      ]
     },
     "execution_count": 12,
     "metadata": {
      "text/plain": ""
     },
     "output_type": "execute_result"
    },
    {
     "data": {
      "application/vnd.francy+json": "{\"version\" : \"0.6.0\",\"mime\" : \"application\\/vnd.francy+json\",\"canvas\" : {\"width\" : 800,\"height\" : 600,\"id\" : \"F189\",\"title\" : \"Hasse diagram of numerical semigroup\",\"zoomToFit\" : true,\"texTypesetting\" : false,\"menus\" : {},\"graph\" : {\"type\" : \"directed\",\"id\" : \"F148\",\"simulation\" : true,\"collapsed\" : true,\"drag\" : true,\"showNeighbours\" : false,\"nodes\" : {\"F149\" : {\"x\" : 0,\"y\" : 0,\"type\" : \"circle\",\"size\" : 10,\"id\" : \"F149\",\"title\" : \"0\",\"color\" : \"\",\"highlight\" : true,\"layer\" : 0,\"parent\" : \"\",\"menus\" : {},\"messages\" : {},\"callbacks\" : {\"F150\" : {\"func\" : \"unknown\",\"id\" : \"F150\",\"trigger\" : \"click\",\"knownArgs\" : [\"0\"],\"requiredArgs\" : {}}}},\"F151\" : {\"x\" : 0,\"y\" : 0,\"type\" : \"circle\",\"size\" : 10,\"id\" : \"F151\",\"title\" : \"5\",\"color\" : \"\",\"highlight\" : true,\"layer\" : -1,\"parent\" : \"\",\"menus\" : {},\"messages\" : {},\"callbacks\" : {\"F152\" : {\"func\" : \"unknown\",\"id\" : \"F152\",\"trigger\" : \"click\",\"knownArgs\" : [\"5\"],\"requiredArgs\" : {}}}},\"F153\" : {\"x\" : 0,\"y\" : 0,\"type\" : \"circle\",\"size\" : 10,\"id\" : \"F153\",\"title\" : \"7\",\"color\" : \"\",\"highlight\" : true,\"layer\" : -1,\"parent\" : \"\",\"menus\" : {},\"messages\" : {},\"callbacks\" : {\"F154\" : {\"func\" : \"unknown\",\"id\" : \"F154\",\"trigger\" : \"click\",\"knownArgs\" : [\"7\"],\"requiredArgs\" : {}}}},\"F155\" : {\"x\" : 0,\"y\" : 0,\"type\" : \"circle\",\"size\" : 10,\"id\" : \"F155\",\"title\" : \"9\",\"color\" : \"\",\"highlight\" : true,\"layer\" : -1,\"parent\" : \"\",\"menus\" : {},\"messages\" : {},\"callbacks\" : {\"F156\" : {\"func\" : \"unknown\",\"id\" : \"F156\",\"trigger\" : \"click\",\"knownArgs\" : [\"9\"],\"requiredArgs\" : {}}}},\"F157\" : {\"x\" : 0,\"y\" : 0,\"type\" : \"circle\",\"size\" : 10,\"id\" : \"F157\",\"title\" : \"11\",\"color\" : \"\",\"highlight\" : true,\"layer\" : -1,\"parent\" : \"\",\"menus\" : {},\"messages\" : {},\"callbacks\" : {\"F158\" : {\"func\" : \"unknown\",\"id\" : \"F158\",\"trigger\" : \"click\",\"knownArgs\" : [\"11\"],\"requiredArgs\" : {}}}},\"F159\" : {\"x\" : 0,\"y\" : 0,\"type\" : \"circle\",\"size\" : 10,\"id\" : \"F159\",\"title\" : \"12\",\"color\" : \"\",\"highlight\" : true,\"layer\" : -2,\"parent\" : \"\",\"menus\" : {},\"messages\" : {},\"callbacks\" : {\"F160\" : {\"func\" : \"unknown\",\"id\" : \"F160\",\"trigger\" : \"click\",\"knownArgs\" : [\"12\"],\"requiredArgs\" : {}}}},\"F161\" : {\"x\" : 0,\"y\" : 0,\"type\" : \"circle\",\"size\" : 10,\"id\" : \"F161\",\"title\" : \"14\",\"color\" : \"\",\"highlight\" : true,\"layer\" : -2,\"parent\" : \"\",\"menus\" : {},\"messages\" : {},\"callbacks\" : {\"F162\" : {\"func\" : \"unknown\",\"id\" : \"F162\",\"trigger\" : \"click\",\"knownArgs\" : [\"14\"],\"requiredArgs\" : {}}}},\"F163\" : {\"x\" : 0,\"y\" : 0,\"type\" : \"circle\",\"size\" : 10,\"id\" : \"F163\",\"title\" : \"16\",\"color\" : \"\",\"highlight\" : true,\"layer\" : -2,\"parent\" : \"\",\"menus\" : {},\"messages\" : {},\"callbacks\" : {\"F164\" : {\"func\" : \"unknown\",\"id\" : \"F164\",\"trigger\" : \"click\",\"knownArgs\" : [\"16\"],\"requiredArgs\" : {}}}},\"F165\" : {\"x\" : 0,\"y\" : 0,\"type\" : \"circle\",\"size\" : 10,\"id\" : \"F165\",\"title\" : \"18\",\"color\" : \"\",\"highlight\" : true,\"layer\" : -2,\"parent\" : \"\",\"menus\" : {},\"messages\" : {},\"callbacks\" : {\"F166\" : {\"func\" : \"unknown\",\"id\" : \"F166\",\"trigger\" : \"click\",\"knownArgs\" : [\"18\"],\"requiredArgs\" : {}}}},\"F167\" : {\"x\" : 0,\"y\" : 0,\"type\" : \"circle\",\"size\" : 10,\"id\" : \"F167\",\"title\" : \"23\",\"color\" : \"\",\"highlight\" : true,\"layer\" : -3,\"parent\" : \"\",\"menus\" : {},\"messages\" : {},\"callbacks\" : {\"F168\" : {\"func\" : \"unknown\",\"id\" : \"F168\",\"trigger\" : \"click\",\"knownArgs\" : [\"23\"],\"requiredArgs\" : {}}}}},\"links\" : {\"F169\" : {\"source\" : \"F149\",\"weight\" : 1,\"id\" : \"F169\",\"color\" : \"\",\"target\" : \"F151\"},\"F170\" : {\"source\" : \"F149\",\"weight\" : 1,\"id\" : \"F170\",\"color\" : \"\",\"target\" : \"F153\"},\"F171\" : {\"source\" : \"F149\",\"weight\" : 1,\"id\" : \"F171\",\"color\" : \"\",\"target\" : \"F155\"},\"F172\" : {\"source\" : \"F149\",\"weight\" : 1,\"id\" : \"F172\",\"color\" : \"\",\"target\" : \"F157\"},\"F173\" : {\"source\" : \"F151\",\"weight\" : 1,\"id\" : \"F173\",\"color\" : \"\",\"target\" : \"F159\"},\"F174\" : {\"source\" : \"F151\",\"weight\" : 1,\"id\" : \"F174\",\"color\" : \"\",\"target\" : \"F161\"},\"F175\" : {\"source\" : \"F151\",\"weight\" : 1,\"id\" : \"F175\",\"color\" : \"\",\"target\" : \"F163\"},\"F176\" : {\"source\" : \"F153\",\"weight\" : 1,\"id\" : \"F176\",\"color\" : \"\",\"target\" : \"F159\"},\"F177\" : {\"source\" : \"F153\",\"weight\" : 1,\"id\" : \"F177\",\"color\" : \"\",\"target\" : \"F161\"},\"F178\" : {\"source\" : \"F153\",\"weight\" : 1,\"id\" : \"F178\",\"color\" : \"\",\"target\" : \"F163\"},\"F179\" : {\"source\" : \"F153\",\"weight\" : 1,\"id\" : \"F179\",\"color\" : \"\",\"target\" : \"F165\"},\"F180\" : {\"source\" : \"F155\",\"weight\" : 1,\"id\" : \"F180\",\"color\" : \"\",\"target\" : \"F161\"},\"F181\" : {\"source\" : \"F155\",\"weight\" : 1,\"id\" : \"F181\",\"color\" : \"\",\"target\" : \"F163\"},\"F182\" : {\"source\" : \"F155\",\"weight\" : 1,\"id\" : \"F182\",\"color\" : \"\",\"target\" : \"F165\"},\"F183\" : {\"source\" : \"F157\",\"weight\" : 1,\"id\" : \"F183\",\"color\" : \"\",\"target\" : \"F163\"},\"F184\" : {\"source\" : \"F157\",\"weight\" : 1,\"id\" : \"F184\",\"color\" : \"\",\"target\" : \"F165\"},\"F185\" : {\"source\" : \"F159\",\"weight\" : 1,\"id\" : \"F185\",\"color\" : \"\",\"target\" : \"F167\"},\"F186\" : {\"source\" : \"F161\",\"weight\" : 1,\"id\" : \"F186\",\"color\" : \"\",\"target\" : \"F167\"},\"F187\" : {\"source\" : \"F163\",\"weight\" : 1,\"id\" : \"F187\",\"color\" : \"\",\"target\" : \"F167\"},\"F188\" : {\"source\" : \"F165\",\"weight\" : 1,\"id\" : \"F188\",\"color\" : \"\",\"target\" : \"F167\"}}},\"messages\" : {}}}"
     },
     "execution_count": 13,
     "metadata": {
      "application/vnd.francy+json": {}
     },
     "output_type": "execute_result"
    }
   ],
   "source": [
    "s:=NumericalSemigroup(5,7,9,11);\n",
    "DrawHasseDiagramOfNumericalSemigroup(s,AperyList(s,10));"
   ]
  },
  {
   "cell_type": "code",
   "execution_count": 15,
   "metadata": {},
   "outputs": [
    {
     "data": {
      "text/plain": [
       "Numerical semigroup with 4 generators"
      ]
     },
     "execution_count": 14,
     "metadata": {
      "text/plain": ""
     },
     "output_type": "execute_result"
    },
    {
     "data": {
      "application/vnd.francy+json": "{\"version\" : \"0.6.0\",\"mime\" : \"application\\/vnd.francy+json\",\"canvas\" : {\"width\" : 800,\"height\" : 600,\"id\" : \"F228\",\"title\" : \"Oversemigroups\",\"zoomToFit\" : true,\"texTypesetting\" : true,\"menus\" : {},\"graph\" : {\"type\" : \"directed\",\"id\" : \"F190\",\"simulation\" : true,\"collapsed\" : true,\"drag\" : true,\"showNeighbours\" : false,\"nodes\" : {\"F191\" : {\"x\" : 0,\"y\" : 0,\"type\" : \"diamond\",\"size\" : 2,\"id\" : \"F191\",\"title\" : \"〈 1 〉\",\"color\" : \"\",\"highlight\" : true,\"layer\" : 0,\"parent\" : \"\",\"menus\" : {},\"messages\" : {},\"callbacks\" : {}},\"F192\" : {\"x\" : 0,\"y\" : 0,\"type\" : \"diamond\",\"size\" : 2,\"id\" : \"F192\",\"title\" : \"〈 2,3 〉\",\"color\" : \"\",\"highlight\" : true,\"layer\" : 1,\"parent\" : \"\",\"menus\" : {},\"messages\" : {},\"callbacks\" : {}},\"F193\" : {\"x\" : 0,\"y\" : 0,\"type\" : \"diamond\",\"size\" : 2,\"id\" : \"F193\",\"title\" : \"〈 2,5 〉\",\"color\" : \"\",\"highlight\" : true,\"layer\" : 2,\"parent\" : \"\",\"menus\" : {},\"messages\" : {},\"callbacks\" : {}},\"F194\" : {\"x\" : 0,\"y\" : 0,\"type\" : \"diamond\",\"size\" : 2,\"id\" : \"F194\",\"title\" : \"〈 3,4,5 〉\",\"color\" : \"\",\"highlight\" : true,\"layer\" : 2,\"parent\" : \"\",\"menus\" : {},\"messages\" : {},\"callbacks\" : {}},\"F195\" : {\"x\" : 0,\"y\" : 0,\"type\" : \"diamond\",\"size\" : 2,\"id\" : \"F195\",\"title\" : \"〈 3,5,7 〉\",\"color\" : \"\",\"highlight\" : true,\"layer\" : 3,\"parent\" : \"\",\"menus\" : {},\"messages\" : {},\"callbacks\" : {}},\"F196\" : {\"x\" : 0,\"y\" : 0,\"type\" : \"circle\",\"size\" : 2,\"id\" : \"F196\",\"title\" : \"〈 4,5,6,7 〉\",\"color\" : \"\",\"highlight\" : true,\"layer\" : 3,\"parent\" : \"\",\"menus\" : {},\"messages\" : {},\"callbacks\" : {}},\"F197\" : {\"x\" : 0,\"y\" : 0,\"type\" : \"diamond\",\"size\" : 2,\"id\" : \"F197\",\"title\" : \"〈 4,5,7 〉\",\"color\" : \"\",\"highlight\" : true,\"layer\" : 4,\"parent\" : \"\",\"menus\" : {},\"messages\" : {},\"callbacks\" : {}},\"F198\" : {\"x\" : 0,\"y\" : 0,\"type\" : \"circle\",\"size\" : 2,\"id\" : \"F198\",\"title\" : \"〈 5,6,7,8,9 〉\",\"color\" : \"\",\"highlight\" : true,\"layer\" : 4,\"parent\" : \"\",\"menus\" : {},\"messages\" : {},\"callbacks\" : {}},\"F199\" : {\"x\" : 0,\"y\" : 0,\"type\" : \"diamond\",\"size\" : 2,\"id\" : \"F199\",\"title\" : \"〈 5,6,7,8 〉\",\"color\" : \"\",\"highlight\" : true,\"layer\" : 5,\"parent\" : \"\",\"menus\" : {},\"messages\" : {},\"callbacks\" : {}},\"F200\" : {\"x\" : 0,\"y\" : 0,\"type\" : \"diamond\",\"size\" : 2,\"id\" : \"F200\",\"title\" : \"〈 5,6,7,9 〉\",\"color\" : \"\",\"highlight\" : true,\"layer\" : 5,\"parent\" : \"\",\"menus\" : {},\"messages\" : {},\"callbacks\" : {}},\"F201\" : {\"x\" : 0,\"y\" : 0,\"type\" : \"circle\",\"size\" : 2,\"id\" : \"F201\",\"title\" : \"〈 5,6,7 〉\",\"color\" : \"\",\"highlight\" : true,\"layer\" : 6,\"parent\" : \"\",\"menus\" : {},\"messages\" : {},\"callbacks\" : {}},\"F202\" : {\"x\" : 0,\"y\" : 0,\"type\" : \"circle\",\"size\" : 2,\"id\" : \"F202\",\"title\" : \"〈 5,7,8,9,11 〉\",\"color\" : \"\",\"highlight\" : true,\"layer\" : 5,\"parent\" : \"\",\"menus\" : {},\"messages\" : {},\"callbacks\" : {}},\"F203\" : {\"x\" : 0,\"y\" : 0,\"type\" : \"circle\",\"size\" : 2,\"id\" : \"F203\",\"title\" : \"〈 5,7,8,11 〉\",\"color\" : \"\",\"highlight\" : true,\"layer\" : 6,\"parent\" : \"\",\"menus\" : {},\"messages\" : {},\"callbacks\" : {}},\"F204\" : {\"x\" : 0,\"y\" : 0,\"type\" : \"circle\",\"size\" : 2,\"id\" : \"F204\",\"title\" : \"〈 5,7,9,11,13 〉\",\"color\" : \"\",\"highlight\" : true,\"layer\" : 6,\"parent\" : \"\",\"menus\" : {},\"messages\" : {},\"callbacks\" : {}},\"F205\" : {\"x\" : 0,\"y\" : 0,\"type\" : \"circle\",\"size\" : 2,\"id\" : \"F205\",\"title\" : \"〈 5,7,11,13 〉\",\"color\" : \"\",\"highlight\" : true,\"layer\" : 7,\"parent\" : \"\",\"menus\" : {},\"messages\" : {},\"callbacks\" : {}}},\"links\" : {\"F206\" : {\"source\" : \"F192\",\"weight\" : 1,\"id\" : \"F206\",\"color\" : \"\",\"target\" : \"F191\"},\"F207\" : {\"source\" : \"F193\",\"weight\" : 1,\"id\" : \"F207\",\"color\" : \"\",\"target\" : \"F192\"},\"F208\" : {\"source\" : \"F194\",\"weight\" : 1,\"id\" : \"F208\",\"color\" : \"\",\"target\" : \"F192\"},\"F209\" : {\"source\" : \"F196\",\"weight\" : 1,\"id\" : \"F209\",\"color\" : \"\",\"target\" : \"F193\"},\"F210\" : {\"source\" : \"F195\",\"weight\" : 1,\"id\" : \"F210\",\"color\" : \"\",\"target\" : \"F194\"},\"F211\" : {\"source\" : \"F196\",\"weight\" : 1,\"id\" : \"F211\",\"color\" : \"\",\"target\" : \"F194\"},\"F212\" : {\"source\" : \"F198\",\"weight\" : 1,\"id\" : \"F212\",\"color\" : \"\",\"target\" : \"F195\"},\"F213\" : {\"source\" : \"F197\",\"weight\" : 1,\"id\" : \"F213\",\"color\" : \"\",\"target\" : \"F196\"},\"F214\" : {\"source\" : \"F198\",\"weight\" : 1,\"id\" : \"F214\",\"color\" : \"\",\"target\" : \"F196\"},\"F215\" : {\"source\" : \"F202\",\"weight\" : 1,\"id\" : \"F215\",\"color\" : \"\",\"target\" : \"F197\"},\"F216\" : {\"source\" : \"F199\",\"weight\" : 1,\"id\" : \"F216\",\"color\" : \"\",\"target\" : \"F198\"},\"F217\" : {\"source\" : \"F200\",\"weight\" : 1,\"id\" : \"F217\",\"color\" : \"\",\"target\" : \"F198\"},\"F218\" : {\"source\" : \"F202\",\"weight\" : 1,\"id\" : \"F218\",\"color\" : \"\",\"target\" : \"F198\"},\"F219\" : {\"source\" : \"F201\",\"weight\" : 1,\"id\" : \"F219\",\"color\" : \"\",\"target\" : \"F199\"},\"F220\" : {\"source\" : \"F203\",\"weight\" : 1,\"id\" : \"F220\",\"color\" : \"\",\"target\" : \"F199\"},\"F221\" : {\"source\" : \"F201\",\"weight\" : 1,\"id\" : \"F221\",\"color\" : \"\",\"target\" : \"F200\"},\"F222\" : {\"source\" : \"F204\",\"weight\" : 1,\"id\" : \"F222\",\"color\" : \"\",\"target\" : \"F200\"},\"F223\" : {\"source\" : \"F205\",\"weight\" : 1,\"id\" : \"F223\",\"color\" : \"\",\"target\" : \"F201\"},\"F224\" : {\"source\" : \"F203\",\"weight\" : 1,\"id\" : \"F224\",\"color\" : \"\",\"target\" : \"F202\"},\"F225\" : {\"source\" : \"F204\",\"weight\" : 1,\"id\" : \"F225\",\"color\" : \"\",\"target\" : \"F202\"},\"F226\" : {\"source\" : \"F205\",\"weight\" : 1,\"id\" : \"F226\",\"color\" : \"\",\"target\" : \"F203\"},\"F227\" : {\"source\" : \"F205\",\"weight\" : 1,\"id\" : \"F227\",\"color\" : \"\",\"target\" : \"F204\"}}},\"messages\" : {}}}"
     },
     "execution_count": 15,
     "metadata": {
      "application/vnd.francy+json": {}
     },
     "output_type": "execute_result"
    }
   ],
   "source": [
    "s:=NumericalSemigroup(5,7,11,13);\n",
    "DrawOverSemigroupsNumericalSemigroup(s);"
   ]
  },
  {
   "cell_type": "markdown",
   "metadata": {},
   "source": [
    "## Graphs"
   ]
  },
  {
   "cell_type": "code",
   "execution_count": 16,
   "metadata": {},
   "outputs": [
    {
     "data": {
      "text/plain": [
       "Numerical semigroup with 3 generators"
      ]
     },
     "execution_count": 16,
     "metadata": {
      "text/plain": ""
     },
     "output_type": "execute_result"
    }
   ],
   "source": [
    "s:=NumericalSemigroup(3,5,7);"
   ]
  },
  {
   "cell_type": "code",
   "execution_count": 17,
   "metadata": {},
   "outputs": [
    {
     "data": {
      "text/plain": [
       "[ [ 10, 0, 0 ], [ 5, 3, 0 ], [ 0, 6, 0 ], [ 6, 1, 1 ], [ 1, 4, 1 ], [ 2, 2, 2 ], [ 3, 0, 3 ] ]"
      ]
     },
     "execution_count": 17,
     "metadata": {
      "text/plain": ""
     },
     "output_type": "execute_result"
    }
   ],
   "source": [
    "f:=FactorizationsElementWRTNumericalSemigroup(30,s);"
   ]
  },
  {
   "cell_type": "code",
   "execution_count": 18,
   "metadata": {},
   "outputs": [
    {
     "data": {
      "application/vnd.francy+json": "{\"version\" : \"0.6.0\",\"mime\" : \"application\\/vnd.francy+json\",\"canvas\" : {\"width\" : 800,\"height\" : 600,\"id\" : \"F256\",\"title\" : \"Factorizations graph\",\"zoomToFit\" : true,\"texTypesetting\" : false,\"menus\" : {},\"graph\" : {\"type\" : \"undirected\",\"id\" : \"F229\",\"simulation\" : true,\"collapsed\" : true,\"drag\" : true,\"showNeighbours\" : true,\"nodes\" : {\"F230\" : {\"x\" : 0,\"y\" : 0,\"type\" : \"circle\",\"size\" : 1,\"id\" : \"F230\",\"title\" : \"(10,0,0)\",\"color\" : \"\",\"highlight\" : true,\"layer\" : 10,\"parent\" : \"\",\"menus\" : {},\"messages\" : {},\"callbacks\" : {}},\"F231\" : {\"x\" : 0,\"y\" : 0,\"type\" : \"circle\",\"size\" : 1,\"id\" : \"F231\",\"title\" : \"(5,3,0)\",\"color\" : \"\",\"highlight\" : true,\"layer\" : 8,\"parent\" : \"\",\"menus\" : {},\"messages\" : {},\"callbacks\" : {}},\"F232\" : {\"x\" : 0,\"y\" : 0,\"type\" : \"circle\",\"size\" : 1,\"id\" : \"F232\",\"title\" : \"(0,6,0)\",\"color\" : \"\",\"highlight\" : true,\"layer\" : 6,\"parent\" : \"\",\"menus\" : {},\"messages\" : {},\"callbacks\" : {}},\"F233\" : {\"x\" : 0,\"y\" : 0,\"type\" : \"circle\",\"size\" : 1,\"id\" : \"F233\",\"title\" : \"(6,1,1)\",\"color\" : \"\",\"highlight\" : true,\"layer\" : 8,\"parent\" : \"\",\"menus\" : {},\"messages\" : {},\"callbacks\" : {}},\"F234\" : {\"x\" : 0,\"y\" : 0,\"type\" : \"circle\",\"size\" : 1,\"id\" : \"F234\",\"title\" : \"(1,4,1)\",\"color\" : \"\",\"highlight\" : true,\"layer\" : 6,\"parent\" : \"\",\"menus\" : {},\"messages\" : {},\"callbacks\" : {}},\"F235\" : {\"x\" : 0,\"y\" : 0,\"type\" : \"circle\",\"size\" : 1,\"id\" : \"F235\",\"title\" : \"(2,2,2)\",\"color\" : \"\",\"highlight\" : true,\"layer\" : 6,\"parent\" : \"\",\"menus\" : {},\"messages\" : {},\"callbacks\" : {}},\"F236\" : {\"x\" : 0,\"y\" : 0,\"type\" : \"circle\",\"size\" : 1,\"id\" : \"F236\",\"title\" : \"(3,0,3)\",\"color\" : \"\",\"highlight\" : true,\"layer\" : 6,\"parent\" : \"\",\"menus\" : {},\"messages\" : {},\"callbacks\" : {}}},\"links\" : {\"F237\" : {\"source\" : \"F231\",\"weight\" : 1,\"id\" : \"F237\",\"title\" : \"2\",\"color\" : \"red\",\"target\" : \"F233\"},\"F238\" : {\"source\" : \"F232\",\"weight\" : 1,\"id\" : \"F238\",\"title\" : \"2\",\"color\" : \"red\",\"target\" : \"F234\"},\"F239\" : {\"source\" : \"F234\",\"weight\" : 1,\"id\" : \"F239\",\"title\" : \"2\",\"color\" : \"red\",\"target\" : \"F235\"},\"F240\" : {\"source\" : \"F235\",\"weight\" : 1,\"id\" : \"F240\",\"title\" : \"2\",\"color\" : \"red\",\"target\" : \"F236\"},\"F241\" : {\"source\" : \"F230\",\"weight\" : 1,\"id\" : \"F241\",\"title\" : \"4\",\"color\" : \"red\",\"target\" : \"F233\"},\"F242\" : {\"source\" : \"F231\",\"weight\" : 1,\"id\" : \"F242\",\"title\" : \"4\",\"color\" : \"red\",\"target\" : \"F234\"},\"F243\" : {\"source\" : \"F231\",\"weight\" : 1,\"id\" : \"F243\",\"title\" : \"4\",\"color\" : \"\",\"target\" : \"F235\"},\"F244\" : {\"source\" : \"F232\",\"weight\" : 1,\"id\" : \"F244\",\"title\" : \"4\",\"color\" : \"\",\"target\" : \"F235\"},\"F245\" : {\"source\" : \"F233\",\"weight\" : 1,\"id\" : \"F245\",\"title\" : \"4\",\"color\" : \"\",\"target\" : \"F235\"},\"F246\" : {\"source\" : \"F233\",\"weight\" : 1,\"id\" : \"F246\",\"title\" : \"4\",\"color\" : \"\",\"target\" : \"F236\"},\"F247\" : {\"source\" : \"F234\",\"weight\" : 1,\"id\" : \"F247\",\"title\" : \"4\",\"color\" : \"\",\"target\" : \"F236\"},\"F248\" : {\"source\" : \"F230\",\"weight\" : 1,\"id\" : \"F248\",\"title\" : \"5\",\"color\" : \"\",\"target\" : \"F231\"},\"F249\" : {\"source\" : \"F231\",\"weight\" : 1,\"id\" : \"F249\",\"title\" : \"5\",\"color\" : \"\",\"target\" : \"F232\"},\"F250\" : {\"source\" : \"F231\",\"weight\" : 1,\"id\" : \"F250\",\"title\" : \"5\",\"color\" : \"\",\"target\" : \"F236\"},\"F251\" : {\"source\" : \"F233\",\"weight\" : 1,\"id\" : \"F251\",\"title\" : \"5\",\"color\" : \"\",\"target\" : \"F234\"},\"F252\" : {\"source\" : \"F230\",\"weight\" : 1,\"id\" : \"F252\",\"title\" : \"7\",\"color\" : \"\",\"target\" : \"F236\"},\"F253\" : {\"source\" : \"F232\",\"weight\" : 1,\"id\" : \"F253\",\"title\" : \"7\",\"color\" : \"\",\"target\" : \"F233\"},\"F254\" : {\"source\" : \"F230\",\"weight\" : 1,\"id\" : \"F254\",\"title\" : \"8\",\"color\" : \"\",\"target\" : \"F235\"},\"F255\" : {\"source\" : \"F230\",\"weight\" : 1,\"id\" : \"F255\",\"title\" : \"9\",\"color\" : \"\",\"target\" : \"F234\"}}},\"messages\" : {}}}"
     },
     "execution_count": 18,
     "metadata": {
      "application/vnd.francy+json": {}
     },
     "output_type": "execute_result"
    }
   ],
   "source": [
    "DrawFactorizationGraph(f);"
   ]
  },
  {
   "cell_type": "code",
   "execution_count": 19,
   "metadata": {},
   "outputs": [
    {
     "data": {
      "application/vnd.francy+json": "{\"version\" : \"0.6.0\",\"mime\" : \"application\\/vnd.francy+json\",\"canvas\" : {\"width\" : 800,\"height\" : 600,\"id\" : \"F284\",\"title\" : \"Eliahou graph\",\"zoomToFit\" : true,\"texTypesetting\" : false,\"menus\" : {},\"graph\" : {\"type\" : \"undirected\",\"id\" : \"F257\",\"simulation\" : true,\"collapsed\" : true,\"drag\" : true,\"showNeighbours\" : true,\"nodes\" : {\"F258\" : {\"x\" : 0,\"y\" : 0,\"type\" : \"circle\",\"size\" : 1,\"id\" : \"F258\",\"title\" : \"(10,0,0)\",\"color\" : \"\",\"highlight\" : true,\"layer\" : 10,\"parent\" : \"\",\"menus\" : {},\"messages\" : {},\"callbacks\" : {}},\"F259\" : {\"x\" : 0,\"y\" : 0,\"type\" : \"circle\",\"size\" : 1,\"id\" : \"F259\",\"title\" : \"(5,3,0)\",\"color\" : \"\",\"highlight\" : true,\"layer\" : 8,\"parent\" : \"\",\"menus\" : {},\"messages\" : {},\"callbacks\" : {}},\"F260\" : {\"x\" : 0,\"y\" : 0,\"type\" : \"circle\",\"size\" : 1,\"id\" : \"F260\",\"title\" : \"(0,6,0)\",\"color\" : \"\",\"highlight\" : true,\"layer\" : 6,\"parent\" : \"\",\"menus\" : {},\"messages\" : {},\"callbacks\" : {}},\"F261\" : {\"x\" : 0,\"y\" : 0,\"type\" : \"circle\",\"size\" : 1,\"id\" : \"F261\",\"title\" : \"(6,1,1)\",\"color\" : \"\",\"highlight\" : true,\"layer\" : 8,\"parent\" : \"\",\"menus\" : {},\"messages\" : {},\"callbacks\" : {}},\"F262\" : {\"x\" : 0,\"y\" : 0,\"type\" : \"circle\",\"size\" : 1,\"id\" : \"F262\",\"title\" : \"(1,4,1)\",\"color\" : \"\",\"highlight\" : true,\"layer\" : 6,\"parent\" : \"\",\"menus\" : {},\"messages\" : {},\"callbacks\" : {}},\"F263\" : {\"x\" : 0,\"y\" : 0,\"type\" : \"circle\",\"size\" : 1,\"id\" : \"F263\",\"title\" : \"(2,2,2)\",\"color\" : \"\",\"highlight\" : true,\"layer\" : 6,\"parent\" : \"\",\"menus\" : {},\"messages\" : {},\"callbacks\" : {}},\"F264\" : {\"x\" : 0,\"y\" : 0,\"type\" : \"circle\",\"size\" : 1,\"id\" : \"F264\",\"title\" : \"(3,0,3)\",\"color\" : \"\",\"highlight\" : true,\"layer\" : 6,\"parent\" : \"\",\"menus\" : {},\"messages\" : {},\"callbacks\" : {}}},\"links\" : {\"F265\" : {\"source\" : \"F258\",\"weight\" : 1,\"id\" : \"F265\",\"color\" : \"\",\"target\" : \"F259\"},\"F266\" : {\"source\" : \"F258\",\"weight\" : 1,\"id\" : \"F266\",\"color\" : \"\",\"target\" : \"F261\"},\"F267\" : {\"source\" : \"F258\",\"weight\" : 1,\"id\" : \"F267\",\"color\" : \"\",\"target\" : \"F262\"},\"F268\" : {\"source\" : \"F258\",\"weight\" : 1,\"id\" : \"F268\",\"color\" : \"\",\"target\" : \"F263\"},\"F269\" : {\"source\" : \"F258\",\"weight\" : 1,\"id\" : \"F269\",\"color\" : \"\",\"target\" : \"F264\"},\"F270\" : {\"source\" : \"F259\",\"weight\" : 1,\"id\" : \"F270\",\"color\" : \"\",\"target\" : \"F260\"},\"F271\" : {\"source\" : \"F259\",\"weight\" : 1,\"id\" : \"F271\",\"color\" : \"\",\"target\" : \"F261\"},\"F272\" : {\"source\" : \"F259\",\"weight\" : 1,\"id\" : \"F272\",\"color\" : \"\",\"target\" : \"F262\"},\"F273\" : {\"source\" : \"F259\",\"weight\" : 1,\"id\" : \"F273\",\"color\" : \"\",\"target\" : \"F263\"},\"F274\" : {\"source\" : \"F259\",\"weight\" : 1,\"id\" : \"F274\",\"color\" : \"\",\"target\" : \"F264\"},\"F275\" : {\"source\" : \"F260\",\"weight\" : 1,\"id\" : \"F275\",\"color\" : \"\",\"target\" : \"F261\"},\"F276\" : {\"source\" : \"F260\",\"weight\" : 1,\"id\" : \"F276\",\"color\" : \"\",\"target\" : \"F262\"},\"F277\" : {\"source\" : \"F260\",\"weight\" : 1,\"id\" : \"F277\",\"color\" : \"\",\"target\" : \"F263\"},\"F278\" : {\"source\" : \"F261\",\"weight\" : 1,\"id\" : \"F278\",\"color\" : \"\",\"target\" : \"F262\"},\"F279\" : {\"source\" : \"F261\",\"weight\" : 1,\"id\" : \"F279\",\"color\" : \"\",\"target\" : \"F263\"},\"F280\" : {\"source\" : \"F261\",\"weight\" : 1,\"id\" : \"F280\",\"color\" : \"\",\"target\" : \"F264\"},\"F281\" : {\"source\" : \"F262\",\"weight\" : 1,\"id\" : \"F281\",\"color\" : \"\",\"target\" : \"F263\"},\"F282\" : {\"source\" : \"F262\",\"weight\" : 1,\"id\" : \"F282\",\"color\" : \"\",\"target\" : \"F264\"},\"F283\" : {\"source\" : \"F263\",\"weight\" : 1,\"id\" : \"F283\",\"color\" : \"\",\"target\" : \"F264\"}}},\"messages\" : {}}}"
     },
     "execution_count": 19,
     "metadata": {
      "application/vnd.francy+json": {}
     },
     "output_type": "execute_result"
    }
   ],
   "source": [
    "DrawEliahouGraph(f);"
   ]
  },
  {
   "cell_type": "code",
   "execution_count": 20,
   "metadata": {},
   "outputs": [
    {
     "data": {
      "application/vnd.francy+json": "{\"version\" : \"0.6.0\",\"mime\" : \"application\\/vnd.francy+json\",\"canvas\" : {\"width\" : 800,\"height\" : 600,\"id\" : \"F292\",\"title\" : \"Rosales graph\",\"zoomToFit\" : true,\"texTypesetting\" : false,\"menus\" : {},\"graph\" : {\"type\" : \"undirected\",\"id\" : \"F285\",\"simulation\" : true,\"collapsed\" : true,\"drag\" : true,\"showNeighbours\" : false,\"nodes\" : {\"F286\" : {\"x\" : 0,\"y\" : 0,\"type\" : \"circle\",\"size\" : 1,\"id\" : \"F286\",\"title\" : \"3\",\"color\" : \"\",\"highlight\" : true,\"layer\" : 0,\"parent\" : \"\",\"menus\" : {},\"messages\" : {},\"callbacks\" : {}},\"F287\" : {\"x\" : 0,\"y\" : 0,\"type\" : \"circle\",\"size\" : 1,\"id\" : \"F287\",\"title\" : \"5\",\"color\" : \"\",\"highlight\" : true,\"layer\" : 0,\"parent\" : \"\",\"menus\" : {},\"messages\" : {},\"callbacks\" : {}},\"F288\" : {\"x\" : 0,\"y\" : 0,\"type\" : \"circle\",\"size\" : 1,\"id\" : \"F288\",\"title\" : \"7\",\"color\" : \"\",\"highlight\" : true,\"layer\" : 0,\"parent\" : \"\",\"menus\" : {},\"messages\" : {},\"callbacks\" : {}}},\"links\" : {\"F289\" : {\"source\" : \"F286\",\"weight\" : 1,\"id\" : \"F289\",\"color\" : \"\",\"target\" : \"F287\"},\"F290\" : {\"source\" : \"F286\",\"weight\" : 1,\"id\" : \"F290\",\"color\" : \"\",\"target\" : \"F288\"},\"F291\" : {\"source\" : \"F287\",\"weight\" : 1,\"id\" : \"F291\",\"color\" : \"\",\"target\" : \"F288\"}}},\"messages\" : {}}}"
     },
     "execution_count": 20,
     "metadata": {
      "application/vnd.francy+json": {}
     },
     "output_type": "execute_result"
    }
   ],
   "source": [
    "DrawRosalesGraph(30,s);"
   ]
  },
  {
   "cell_type": "code",
   "execution_count": null,
   "metadata": {},
   "outputs": [],
   "source": []
  }
 ],
 "metadata": {
  "kernelspec": {
   "display_name": "GAP 4 (native)",
   "language": "gap",
   "name": "gap-native"
  },
  "language_info": {
   "codemirror_mode": "gap",
   "file_extension": ".g",
   "mimetype": "text/x-gap",
   "name": "GAP (native)",
   "nbconvert_exporter": "",
   "pygments_lexer": "gap",
   "version": "4.9.1"
  }
 },
 "nbformat": 4,
 "nbformat_minor": 2
}
